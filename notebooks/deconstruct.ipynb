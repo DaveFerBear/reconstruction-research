{
 "cells": [
  {
   "cell_type": "code",
   "execution_count": null,
   "id": "f40dea8a",
   "metadata": {},
   "outputs": [],
   "source": "from pathlib import Path\nimport os\nimport time\nimport json\nimport pandas as pd\nimport sys\n\n# Add parent directory to path for imports\nsys.path.insert(0, str(Path('..').resolve()))"
  },
  {
   "cell_type": "code",
   "execution_count": 40,
   "id": "81e2c291",
   "metadata": {},
   "outputs": [],
   "source": [
    "canva_samples = Path('../datasets/canva/')\n",
    "\n",
    "# Create a dataframe of all the files in the canva samples directory\n",
    "canva_samples_df = pd.DataFrame(list(canva_samples.glob('**/*')), columns=['path'])\n",
    "\n",
    "# Add a column for the filename\n",
    "canva_samples_df['filename'] = canva_samples_df['path'].apply(lambda x: x.name)"
   ]
  },
  {
   "cell_type": "code",
   "execution_count": null,
   "id": "78315946",
   "metadata": {},
   "outputs": [],
   "source": "def create_system_prompt(image_width: int, image_height: int) -> str:\n    return f'''You are an expert graphic design analyst specializing in precise visual deconstruction.\n\nAnalyze the design image and return a JSON spec that captures EXACT positioning, colors, fonts, and styling.\n\nCRITICAL REQUIREMENTS:\n1. The input image is EXACTLY {image_width}x{image_height} pixels - measure all positions relative to this canvas size\n2. Identify actual hex colors (e.g., #6a1b9a, not \"purple\") - be precise\n3. Detect the actual font families used (common web fonts: Arial, Helvetica, Georgia, etc.)\n4. Capture exact text content including proper capitalization and punctuation\n5. Note all text styling: font-weight (normal, bold, 100-900), font-style (normal, italic), text-transform, text-decoration\n6. For images/photos, provide detailed descriptions of the visual content\n7. Identify background colors or gradients with exact hex values\n8. Measure positions carefully - x,y is top-left corner of each element\n9. Order nodes from back to front (background elements first, foreground elements last)\n\nYour output must be ONLY a valid JSON object with this exact structure:\n\n{{\n    \"background_color\": \"#hexcolor\",\n    \"has_background_image\": true/false,\n    \"background_image_description\": \"detailed description if has_background_image is true, otherwise empty string\",\n    \"nodes\": [\n        {{\n            \"type\": \"text\",\n            \"text\": \"exact text content\",\n            \"x\": 0,\n            \"y\": 0,\n            \"width\": 0,\n            \"height\": 0,\n            \"rotation\": 0,\n            \"font-family\": \"actual font name\",\n            \"font-size\": 0,\n            \"color\": \"#hexcolor\",\n            \"text-align\": \"left|center|right\",\n            \"font-weight\": \"normal|bold|100-900\",\n            \"font-style\": \"normal|italic\",\n            \"text-decoration\": \"none|underline\",\n            \"text-transform\": \"none|uppercase|lowercase|capitalize\"\n        }},\n        {{\n            \"type\": \"image\",\n            \"asset_description\": \"detailed description of the image content\",\n            \"x\": 0,\n            \"y\": 0,\n            \"width\": 0,\n            \"height\": 0,\n            \"rotation\": 0\n        }}\n    ]\n}}\n\nBe meticulous and accurate. The spec should enable faithful reconstruction of the design.'''\n"
  },
  {
   "cell_type": "code",
   "execution_count": null,
   "id": "508d0b36",
   "metadata": {},
   "outputs": [],
   "source": "import litellm\nfrom PIL import Image\nfrom lib.utils import MIME_BY_SUFFIX, _to_data_url, _parse_json_str\n\n# Load .env (force override so notebook doesn't keep an old key)\ntry:\n    from dotenv import load_dotenv, find_dotenv\n    load_dotenv(find_dotenv(), override=True)\nexcept Exception:\n    pass\n\n# Ensure litellm uses the key from env\nlitellm.api_key = os.getenv('OPENAI_API_KEY')\n\n# Hardcode reasoning/thinking config\nTHINKING = True\nREASONING_EFFORT = 'high'\n\n# Spec generation -> one folder per source file, writing spec.json\nOUTPUT_ROOT = Path('../datasets/canva_specs')\nOUTPUT_ROOT.mkdir(parents=True, exist_ok=True)\nMODEL = os.getenv('OPENAI_MODEL', 'gpt-5')\n\nDEBUG = False\nif DEBUG:\n    print((os.getenv(\"OPENAI_API_KEY\", \"\")[-6:]), (litellm.api_key or \"\")[-6:])\n    litellm._turn_on_debug()\n\ninstruction = (\n    \"Return ONLY a strict JSON object matching the schema from the system prompt. \"\n    \"No code fences, no comments, no prose.\"\n)\n\ndef describe_image_with_llm(image_path: Path, max_retries: int = 3, cooldown_s: float = 0.5) -> dict:\n    # Get image dimensions\n    with Image.open(image_path) as img:\n        width, height = img.size\n    \n    # Create system prompt with actual dimensions\n    system_prompt = create_system_prompt(width, height)\n    \n    data_url = _to_data_url(image_path)\n    messages = [\n        {\"role\": \"system\", \"content\": system_prompt},\n        {\n            \"role\": \"user\",\n            \"content\": [\n                {\"type\": \"text\", \"text\": instruction},\n                {\"type\": \"image_url\", \"image_url\": {\"url\": data_url}},\n            ],\n        },\n    ]\n    llm_kwargs = {\"temperature\": 0.2, \"max_tokens\": 2000}\n\n    if THINKING:\n        llm_kwargs.update({\"thinking\": {\"type\": \"enabled\"}, \"reasoning_effort\": REASONING_EFFORT})\n\n    last_err = None\n    for attempt in range(1, max_retries + 1):\n        try:\n            resp = litellm.completion(\n                model=MODEL,\n                messages=messages,\n                drop_params=True,  # drop unsupported params like 'thinking' on providers that don't support them\n                **llm_kwargs,\n            )\n            text = resp[\"choices\"][0][\"message\"][\"content\"]\n            spec = _parse_json_str(text)\n            \n            # Append canvas dimensions to spec\n            spec['canvas_width'] = width\n            spec['canvas_height'] = height\n            \n            return spec\n        except Exception as e:\n            last_err = e\n            print(f\"  Attempt {attempt} failed: {e}\")\n            time.sleep(cooldown_s * attempt)\n    raise last_err\n\n# Filter to image files\nimg_df = canva_samples_df[canva_samples_df['path'].astype(str).str.lower().str.endswith(tuple(MIME_BY_SUFFIX.keys()))].copy()\nprint(f\"Found {len(img_df)} image files\")\n\n# Generate specs in per-file folders\nfor i, p in enumerate(img_df['path'], start=1):\n    p = Path(p)\n    out_dir = (OUTPUT_ROOT / p.stem)\n    out_dir.mkdir(parents=True, exist_ok=True)\n    spec_path = out_dir / 'spec.json'\n    error_path = out_dir / 'error.txt'\n\n    if spec_path.exists():\n        if i % 10 == 0:\n            print(f\"[{i}/{len(img_df)}] Skip existing: {out_dir.name}/spec.json\")\n        continue\n\n    print(f\"[{i}/{len(img_df)}] Processing {p.name}...\")\n    try:\n        spec = describe_image_with_llm(p)\n        with spec_path.open('w', encoding='utf-8') as f:\n            json.dump(spec, f, ensure_ascii=False, indent=2)\n        print(f\"  ✓ Wrote {out_dir.name}/spec.json\")\n    except Exception as e:\n        print(f\"  ✗ ERROR: {e}\")\n        with error_path.open('w', encoding='utf-8') as f:\n            f.write(str(e))\n        continue\n\nprint('Done!')"
  },
  {
   "cell_type": "code",
   "execution_count": null,
   "id": "e205647c",
   "metadata": {},
   "outputs": [],
   "source": []
  }
 ],
 "metadata": {
  "kernelspec": {
   "display_name": "Python 3",
   "language": "python",
   "name": "python3"
  },
  "language_info": {
   "codemirror_mode": {
    "name": "ipython",
    "version": 3
   },
   "file_extension": ".py",
   "mimetype": "text/x-python",
   "name": "python",
   "nbconvert_exporter": "python",
   "pygments_lexer": "ipython3",
   "version": "3.10.16"
  }
 },
 "nbformat": 4,
 "nbformat_minor": 5
}