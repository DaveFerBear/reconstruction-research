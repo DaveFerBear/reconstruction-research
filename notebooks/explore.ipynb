{
 "cells": [
  {
   "cell_type": "code",
   "execution_count": null,
   "id": "9d130d31",
   "metadata": {},
   "outputs": [],
   "source": [
    "import pandas as pd\n",
    "import numpy as np\n",
    "from pathlib import Path\n",
    "import json"
   ]
  },
  {
   "cell_type": "code",
   "execution_count": null,
   "id": "43f9718c",
   "metadata": {},
   "outputs": [],
   "source": [
    "dataset_dir = Path('../datasets_secret')\n",
    "templates_raw = pd.read_csv(dataset_dir / 'templates_w_nodes.csv')\n",
    "\n",
    "\n",
    "# convert content to json\n",
    "templates_raw['content_dict'] = templates_raw['content'].apply(json.loads)\n",
    "\n",
    "templates_raw.head()\n",
    "\n",
    "templates_raw.columns\n",
    "\n"
   ]
  },
  {
   "cell_type": "code",
   "execution_count": null,
   "id": "f04c3fbd",
   "metadata": {},
   "outputs": [],
   "source": [
    "any_text_filter = lambda x: any(node['type'] == 'text' for node in x['nodes'])\n",
    "any_image_filter = lambda x: any(node['type'] == 'image' for node in x['nodes'])\n",
    "not_any_geo_filter = lambda x: not any(node['type'] == 'geo' for node in x['nodes'])\n",
    "\n",
    "# Filter for templates with just images and text, and NEVER geo\n",
    "templates_images_and_text = templates_raw[\n",
    "    (templates_raw['content_dict'].apply(any_text_filter)\n",
    "    | templates_raw['content_dict'].apply(any_image_filter))\n",
    "    &\n",
    "    templates_raw['content_dict'].apply(not_any_geo_filter)\n",
    "]\n",
    "num_templates = len(templates_images_and_text)\n",
    "print(f\"Number of templates: {num_templates}\")\n",
    "\n",
    "# Print a random template\n",
    "random_template = templates_images_and_text.iloc[np.random.randint(0, num_templates)]\n",
    "print(random_template.content)\n"
   ]
  },
  {
   "cell_type": "code",
   "execution_count": null,
   "id": "50cc67a3",
   "metadata": {},
   "outputs": [],
   "source": []
  }
 ],
 "metadata": {
  "kernelspec": {
   "display_name": "Python 3",
   "language": "python",
   "name": "python3"
  },
  "language_info": {
   "codemirror_mode": {
    "name": "ipython",
    "version": 3
   },
   "file_extension": ".py",
   "mimetype": "text/x-python",
   "name": "python",
   "nbconvert_exporter": "python",
   "pygments_lexer": "ipython3",
   "version": "3.10.16"
  }
 },
 "nbformat": 4,
 "nbformat_minor": 5
}
